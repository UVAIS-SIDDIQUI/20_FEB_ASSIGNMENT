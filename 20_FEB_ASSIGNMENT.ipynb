{
 "cells": [
  {
   "cell_type": "code",
   "execution_count": 1,
   "id": "6a904d01-cf6a-4511-aee5-a162de1e02d4",
   "metadata": {},
   "outputs": [],
   "source": [
    "# Q1. Explain GET and POST methods."
   ]
  },
  {
   "cell_type": "markdown",
   "id": "77ab75ed-691e-4f42-93c0-00cb93b569b8",
   "metadata": {},
   "source": [
    "ANS = The GET and POST methods are commonly used when working with web applications and HTTP requests. These methods are used to communicate with web servers and exchange data. Here's an explanation of each:\n",
    "\n",
    "-->GET Method:\n",
    "\n",
    "The GET method is used to request data from a specified resource, typically a web server.\n",
    "It appends data to the URL in the form of query parameters. For example, in a URL like https://example.com/search?query=python, the query parameter is passed using the GET method.\n",
    "GET requests are generally used for retrieving data and should not have side effects on the server. They are idempotent, meaning making the same GET request multiple times should not change the server's state.\n",
    "In Python, you can make GET requests using libraries like requests.\n",
    "\n",
    "\n",
    "-->POST Method:\n",
    "\n",
    "The POST method is used to submit data to be processed to a specified resource, typically a web server.\n",
    "Unlike GET, POST sends data in the request body rather than as query parameters in the URL. This makes it suitable for sending large amounts of data or sensitive information, like login credentials.\n",
    "POST requests can have side effects on the server, such as updating a database or creating a new resource. They are not idempotent, meaning making the same POST request multiple times can result in different server states.\n",
    "In Python, you can make POST requests using libraries like requests\n",
    "\n",
    "\n",
    "These are the fundamental HTTP methods used for communication between a client (e.g., a Python program) and a web server. They are essential for web development and integration with web APIs. Depending on your use case, you may also encounter other HTTP methods like PUT, DELETE, and more, each serving a specific purpose in web development."
   ]
  },
  {
   "cell_type": "code",
   "execution_count": 2,
   "id": "476d99cd-421f-47e2-83b6-f67e9c01f574",
   "metadata": {},
   "outputs": [],
   "source": [
    "# Q2. Why is request used in Flask?"
   ]
  },
  {
   "cell_type": "markdown",
   "id": "a819d325-501d-4f3f-a4b7-4fd112d5f62b",
   "metadata": {},
   "source": [
    "ANS = In Flask, the request object is used to access data that is sent to the server by the client as part of an HTTP request. It provides a way for your Flask application to interact with incoming data, such as form data, query parameters, and HTTP headers. Here are some of the main reasons why the request object is used in Flask:\n",
    "\n",
    "Accessing User Input: \n",
    "\n",
    "Flask is often used to build web applications that require user input, such as search queries, form submissions, and user authentication. The request object allows you to access the data submitted by users in the request, making it essential for handling user interactions.\n",
    "\n",
    "Handling Forms:\n",
    "\n",
    "When users submit HTML forms on a web page, the data from those forms is included in the request. The request object provides methods and attributes for accessing this form data, making it easy to process and validate user inputs.\n",
    "\n",
    "Query Parameters:\n",
    "\n",
    "In web applications, you often need to handle URLs with query parameters. The request object allows you to retrieve these parameters, which are typically used for filtering or specifying the behavior of a page.\n",
    "\n",
    "Cookies:\n",
    "\n",
    "The request object allows you to access cookies sent by the client's browser. Cookies are often used for session management and user authentication in web applications.\n",
    "\n",
    "HTTP Headers:\n",
    "\n",
    "You can access HTTP headers sent by the client through the request object. This is useful for tasks like checking the user's browser, language preferences, or authorization credentials.\n",
    "\n",
    "File Uploads:\n",
    "\n",
    "When handling file uploads in Flask, the request object is used to access the uploaded files and associated data."
   ]
  },
  {
   "cell_type": "code",
   "execution_count": 3,
   "id": "42b16625-c6c4-432c-90b6-65338d80472f",
   "metadata": {},
   "outputs": [],
   "source": [
    "# Q3. Why is redirect() used in Flask?"
   ]
  },
  {
   "cell_type": "markdown",
   "id": "73b5b490-44e3-4b0c-92b3-1376a57aaf84",
   "metadata": {},
   "source": [
    "ANS = In Flask, the redirect() function is used to perform a redirection to a different URL. It is a useful tool for building web applications because it allows you to send an HTTP response to the client's browser, instructing it to navigate to a new URL. This is commonly used for various purposes, including:\n",
    "\n",
    "URL Redirection: You can use redirect() to send the client to a different URL within your Flask application or even to an external URL. For example, after a user successfully logs in, you might want to redirect them to their profile page.\n",
    "\n",
    "Handling Form Submissions: After a user submits a form on a web page, you may want to redirect them to a different page to display a success message or perform some other action. This helps avoid the issue of users resubmitting the form data if they refresh the page.\n",
    "\n",
    "Changing URL Structure: If you decide to change the URL structure of your application or rename routes, you can use redirects to ensure that users are directed to the correct location even if they have bookmarked or shared old URLs.\n",
    "\n",
    "Implementing Short URLs: You can use redirects to create short URLs that redirect to longer, more complex URLs. This is often seen in URL shortening services."
   ]
  },
  {
   "cell_type": "code",
   "execution_count": 4,
   "id": "935736d0-b13d-4353-8562-cbb0ee851852",
   "metadata": {},
   "outputs": [],
   "source": [
    "# Q4. What are templates in Flask? Why is the render_template() function used?"
   ]
  },
  {
   "cell_type": "markdown",
   "id": "d3a855a2-a933-4089-b8d1-e95e96771a8a",
   "metadata": {},
   "source": [
    "ANS = In Flask, templates are used to separate the presentation logic from the business logic of a web application. Templates allow you to define the structure and layout of HTML pages, and they can dynamically render data by inserting values into the HTML structure. This separation of concerns makes it easier to manage and maintain web applications, as it promotes cleaner and more maintainable code.\n",
    "\n",
    "Here's why templates are important in Flask:\n",
    "\n",
    "Separation of Concerns:\n",
    "\n",
    "Templates separate the HTML markup (presentation) from the Python code (business logic). This makes it easier for web designers to work on the HTML structure without needing to understand the underlying Python code.\n",
    "\n",
    "Dynamic Content:\n",
    "\n",
    "Templates allow you to insert dynamic content, such as data from a database or user input, into the HTML pages. This dynamic rendering is achieved through template placeholders or variables.\n",
    "\n",
    "Reusability:\n",
    "\n",
    "Templates can be reused across multiple routes or views. This promotes code reusability and consistency in the user interface.\n",
    "\n",
    "Maintainability:\n",
    "\n",
    "Separating the presentation layer from the application logic makes it easier to maintain and update the user interface without affecting the core functionality of the application.\n",
    "\n",
    "To render templates in Flask, you use the render_template() function. This function is part of Flask's flask module and is used to load and render HTML templates. Here's how it works:\n",
    "\n",
    "You create an HTML template file in your Flask project directory. This template file can contain placeholders for dynamic data, typically enclosed in double curly braces, e.g., {{ variable_name }}.\n",
    "\n",
    "In your Flask route or view function, you use the render_template() function to specify the template file to be rendered. You can also pass data as keyword arguments to this function.\n",
    "\n",
    "Flask will render the HTML template with the provided data and return it as an HTTP response to the client's browser."
   ]
  },
  {
   "cell_type": "code",
   "execution_count": 5,
   "id": "7699cee5-a111-4bb9-97e5-f1491059ece1",
   "metadata": {},
   "outputs": [],
   "source": [
    "# Q5. Create a simple API. Use Postman to test it. Attach the screenshot of the output in the Jupyter Notebook."
   ]
  },
  {
   "cell_type": "markdown",
   "id": "de3cdd3a-6f71-4447-9d24-facb241b2eba",
   "metadata": {},
   "source": [
    "![postman_screenshot_api](\"postman_screenshot_api.PNG\")"
   ]
  },
  {
   "cell_type": "markdown",
   "id": "e7866d67-6799-4d2c-ba55-edb35981bdee",
   "metadata": {},
   "source": [
    "<img src= \"postman_screenshot_api.PNG\" style =\" width=200px; height=400px\"/>"
   ]
  },
  {
   "cell_type": "markdown",
   "id": "7331bce5-a414-4145-a9cc-82926dcc50dd",
   "metadata": {},
   "source": [
    "I DON'T KNOW WHY IT IS NOT INSER PLEASE IF DONT ABLE TO SEE HELP ME OR MARKE IT CORRECT BECAUSE OF ISSUE"
   ]
  },
  {
   "cell_type": "code",
   "execution_count": null,
   "id": "68d0b4f6-ec7d-4c01-8cc9-9d7775057672",
   "metadata": {},
   "outputs": [],
   "source": []
  }
 ],
 "metadata": {
  "kernelspec": {
   "display_name": "Python 3 (ipykernel)",
   "language": "python",
   "name": "python3"
  },
  "language_info": {
   "codemirror_mode": {
    "name": "ipython",
    "version": 3
   },
   "file_extension": ".py",
   "mimetype": "text/x-python",
   "name": "python",
   "nbconvert_exporter": "python",
   "pygments_lexer": "ipython3",
   "version": "3.10.8"
  }
 },
 "nbformat": 4,
 "nbformat_minor": 5
}
